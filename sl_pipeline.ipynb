{
 "cells": [
  {
   "cell_type": "markdown",
   "id": "d611dcac-27aa-4d1a-9704-196039eb8614",
   "metadata": {},
   "source": [
    "# Supervised Learning Pipeline with sklearn"
   ]
  },
  {
   "cell_type": "code",
   "execution_count": null,
   "id": "b5c22948-446d-4245-9303-6a2a9a4b99ca",
   "metadata": {},
   "outputs": [],
   "source": [
    "import pandas as pd\n",
    "import numpy as np\n",
    "\n",
    "from sklearn import set_config\n",
    "from sklearn import ColumnTransformer, make_column_selector\n",
    "from sklearn.impute import SimpleImputer\n",
    "from sklearn.preprocessing import StandardScaler, OneHotEncoder\n",
    "from sklearn.liner_model import LogisticRegression, SGDClassifier\n",
    "from sklearn.model_selection import train_test_split, GridSearchCV"
   ]
  },
  {
   "cell_type": "markdown",
   "id": "f610a9b1-7017-4c95-8a27-ddef404ac243",
   "metadata": {},
   "source": [
    "### Create model switcher class for pipeline grid search"
   ]
  },
  {
   "cell_type": "code",
   "execution_count": null,
   "id": "d630b820-4a3e-4915-b7a0-83e187031d95",
   "metadata": {},
   "outputs": [],
   "source": [
    "from sklearn.base import BaseEstimator\n",
    "\n",
    "class ModelSwitcher(BaseEstimator):\n",
    "    def __init__(\n",
    "        self,\n",
    "        estimator = SGDClassifier(),\n",
    "    ):\n",
    "        \"\"\"\n",
    "        A custome BaseEstimator that can switch between classifiers.\n",
    "        :param estimator: sklearn object - the classifier\n",
    "        \"\"\"\n",
    "        self.estimator = estimator\n",
    "        \n",
    "    def fit(self, X, y=None, **kwargs):\n",
    "        self.estimator.fit(X, y)\n",
    "        return self\n",
    "    \n",
    "    def predict(self, X, y=None):\n",
    "        return self.estimator.predict(X)\n",
    "    \n",
    "    def predict_proba(self, X):\n",
    "        return self.estimator.predict_proba(X)\n",
    "    \n",
    "    def score(self, X, y):\n",
    "        return self.estimator.score(X, y)"
   ]
  },
  {
   "cell_type": "markdown",
   "id": "d3600ca8-5711-4b49-995c-68c9dd74dd6b",
   "metadata": {},
   "source": [
    "### Make preprocessor with ColumnTransformer"
   ]
  },
  {
   "cell_type": "code",
   "execution_count": null,
   "id": "1e7295bb-c80d-49b0-ae0d-32ad07970699",
   "metadata": {},
   "outputs": [],
   "source": [
    "def make_preprocessor(numeric_features, categorical_features):\n",
    "    if numeric_features:\n",
    "        numeric_transformer = Pipeline(steps=[\n",
    "            ('imputer', SimpleImputer(strategy='median')),\n",
    "            ('scaler', StandardScaler())\n",
    "        ])\n",
    "    else:\n",
    "        numeric_transformer = 'passthrough'\n",
    "        \n",
    "    if categorical_features:\n",
    "        categorical_transformer = Pipeline(steps=[\n",
    "            ('imputer', SimpleImputer(strategy='constant', fill_value='missing')),\n",
    "            ('onehot', OneHotEncoder(handle_unknown='ignore'))\n",
    "        ])\n",
    "    else:\n",
    "        categorical_transformer = 'passthrough'\n",
    "        \n",
    "    preprocessor = ColumnTransformer(\n",
    "        transformers=[\n",
    "            ('numeric', numeric_transformer, numeric_features),\n",
    "            ('categorical', categorical_transformer, categorical_features),\n",
    "        ])\n",
    "    \n",
    "    return preprocessor"
   ]
  },
  {
   "cell_type": "markdown",
   "id": "eb681973-156b-4e57-9a8b-838f29d93f53",
   "metadata": {},
   "source": [
    "### Make Grid Search on pipeline"
   ]
  },
  {
   "cell_type": "code",
   "execution_count": null,
   "id": "3260d8e2-357f-4dcc-b487-145cbe592fd8",
   "metadata": {},
   "outputs": [],
   "source": [
    "def make_grid_search(pipe, n_jobs, param_grid):\n",
    "    if not param_grid:\n",
    "        raise ValueError('Grid Search Hyperparameters is None!')\n",
    "    else:\n",
    "        grid = GridSearchCV(pipe, n_jobs=1, param_grid=param_grid)\n",
    "    \n",
    "    return grid"
   ]
  },
  {
   "cell_type": "markdown",
   "id": "1acec292-d3b1-486a-83f3-18cb711eb2bb",
   "metadata": {},
   "source": [
    "### Manually set hyperparameters for pipeline grid search\n",
    "(**Your program start from here**)"
   ]
  },
  {
   "cell_type": "code",
   "execution_count": null,
   "id": "744bc689-b7b9-4bae-a867-53a8b3674214",
   "metadata": {},
   "outputs": [],
   "source": [
    "param_preprocessor = {\n",
    "    'preprocessor__numeric__imputer__strategy': ['mean', 'median']\n",
    "}\n",
    "\n",
    "param_model = [\n",
    "    {\n",
    "        'model_switcher__estimator': [SGDclassifier()],\n",
    "        'model_switcher__estimator__penalty': ['l1', 'l2', 'elasticnet'],\n",
    "        'model_switcher__estimator__max_iter': [150],\n",
    "        'model_switcher__estimator__tol': [1e-4],\n",
    "        'model_switcher__estimator__loss': ['hinge'],\n",
    "    },\n",
    "    {\n",
    "        'model_switcher__estimator': [LogisticRegression()],\n",
    "        'model_switcher__estimator__C': [5, 10, 20],\n",
    "    },\n",
    "]\n",
    "\n",
    "param_grid = [{**param, **param_preprocessor} for param in param_model]"
   ]
  }
 ],
 "metadata": {
  "kernelspec": {
   "display_name": "Python 3 (ipykernel)",
   "language": "python",
   "name": "python3"
  },
  "language_info": {
   "codemirror_mode": {
    "name": "ipython",
    "version": 3
   },
   "file_extension": ".py",
   "mimetype": "text/x-python",
   "name": "python",
   "nbconvert_exporter": "python",
   "pygments_lexer": "ipython3",
   "version": "3.11.4"
  }
 },
 "nbformat": 4,
 "nbformat_minor": 5
}
